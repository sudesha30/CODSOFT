{
 "cells": [
  {
   "cell_type": "code",
   "execution_count": 1,
   "metadata": {
    "_cell_guid": "b1076dfc-b9ad-4769-8c92-a6c4dae69d19",
    "_uuid": "8f2839f25d086af736a60e9eeb907d3b93b6e0e5",
    "execution": {
     "iopub.execute_input": "2023-10-22T15:43:31.390609Z",
     "iopub.status.busy": "2023-10-22T15:43:31.389297Z",
     "iopub.status.idle": "2023-10-22T15:43:31.403819Z",
     "shell.execute_reply": "2023-10-22T15:43:31.402263Z",
     "shell.execute_reply.started": "2023-10-22T15:43:31.390569Z"
    }
   },
   "outputs": [],
   "source": [
    "\n",
    "import numpy as np\n",
    "import pandas as pd\n",
    "import seaborn as sns\n",
    "import matplotlib.pyplot as plt\n",
    "from sklearn.ensemble import RandomForestClassifier\n",
    "from sklearn.preprocessing import LabelEncoder, OneHotEncoder\n",
    "\n",
    "\n",
    "import os\n",
    "for dirname, _, filenames in os.walk('/kaggle/input'):\n",
    "    for filename in filenames:\n",
    "        print(os.path.join(dirname, filename))\n"
   ]
  },
  {
   "cell_type": "code",
   "execution_count": 2,
   "metadata": {
    "execution": {
     "iopub.execute_input": "2023-10-22T15:43:31.40816Z",
     "iopub.status.busy": "2023-10-22T15:43:31.406932Z",
     "iopub.status.idle": "2023-10-22T15:43:32.941149Z",
     "shell.execute_reply": "2023-10-22T15:43:32.939545Z",
     "shell.execute_reply.started": "2023-10-22T15:43:31.408117Z"
    }
   },
   "outputs": [],
   "source": [
    "with open(\"/Volumes/Essentials/Internships/Codsoft/Task 2-Movie classification /Genre Classification Dataset/train_data.txt\", \"rb\") as file:\n",
    "    train_text = file.read().decode('utf-8').lower()\n",
    "with open(\"/Volumes/Essentials/Internships/Codsoft/Task 2-Movie classification /Genre Classification Dataset/test_data.txt\", \"rb\") as file:\n",
    "    test_text = file.read().decode('utf-8').lower()"
   ]
  },
  {
   "cell_type": "code",
   "execution_count": 3,
   "metadata": {
    "execution": {
     "iopub.execute_input": "2023-10-22T15:43:32.943323Z",
     "iopub.status.busy": "2023-10-22T15:43:32.942931Z",
     "iopub.status.idle": "2023-10-22T15:43:33.222548Z",
     "shell.execute_reply": "2023-10-22T15:43:33.221235Z",
     "shell.execute_reply.started": "2023-10-22T15:43:32.943293Z"
    }
   },
   "outputs": [],
   "source": [
    "rows = train_text.split(\":::\")\n",
    "\n",
    "# Split the data into lines based on \"\\n\"\n",
    "lines = train_text.split(\"\\n\")\n",
    "\n",
    "# Initialize empty lists for the four columns\n",
    "column1 = []\n",
    "column2 = []\n",
    "column3 = []\n",
    "column4 = []\n",
    "\n",
    "# Split each line into four columns based on the delimiter \":::\"\n",
    "for line in lines:\n",
    "    columns = line.split(\":::\")\n",
    "    if len(columns) == 4:\n",
    "        column1.append(columns[0])\n",
    "        column2.append(columns[1])\n",
    "        column3.append(columns[2])\n",
    "        column4.append(columns[3])"
   ]
  },
  {
   "cell_type": "code",
   "execution_count": 4,
   "metadata": {
    "execution": {
     "iopub.execute_input": "2023-10-22T15:43:33.224963Z",
     "iopub.status.busy": "2023-10-22T15:43:33.224245Z",
     "iopub.status.idle": "2023-10-22T15:43:33.305179Z",
     "shell.execute_reply": "2023-10-22T15:43:33.303931Z",
     "shell.execute_reply.started": "2023-10-22T15:43:33.224901Z"
    }
   },
   "outputs": [
    {
     "data": {
      "text/html": [
       "<div>\n",
       "<style scoped>\n",
       "    .dataframe tbody tr th:only-of-type {\n",
       "        vertical-align: middle;\n",
       "    }\n",
       "\n",
       "    .dataframe tbody tr th {\n",
       "        vertical-align: top;\n",
       "    }\n",
       "\n",
       "    .dataframe thead th {\n",
       "        text-align: right;\n",
       "    }\n",
       "</style>\n",
       "<table border=\"1\" class=\"dataframe\">\n",
       "  <thead>\n",
       "    <tr style=\"text-align: right;\">\n",
       "      <th></th>\n",
       "      <th>name</th>\n",
       "      <th>genre</th>\n",
       "      <th>description</th>\n",
       "    </tr>\n",
       "  </thead>\n",
       "  <tbody>\n",
       "    <tr>\n",
       "      <th>0</th>\n",
       "      <td>oscar et la dame rose</td>\n",
       "      <td>drama</td>\n",
       "      <td>listening in to a conversation between his do...</td>\n",
       "    </tr>\n",
       "    <tr>\n",
       "      <th>1</th>\n",
       "      <td>cupid</td>\n",
       "      <td>thriller</td>\n",
       "      <td>a brother and sister with a past incestuous r...</td>\n",
       "    </tr>\n",
       "    <tr>\n",
       "      <th>2</th>\n",
       "      <td>young, wild and wonderful</td>\n",
       "      <td>adult</td>\n",
       "      <td>as the bus empties the students for their fie...</td>\n",
       "    </tr>\n",
       "    <tr>\n",
       "      <th>3</th>\n",
       "      <td>the secret sin</td>\n",
       "      <td>drama</td>\n",
       "      <td>to help their unemployed father make ends mee...</td>\n",
       "    </tr>\n",
       "    <tr>\n",
       "      <th>4</th>\n",
       "      <td>the unrecovered</td>\n",
       "      <td>drama</td>\n",
       "      <td>the film's title refers not only to the un-re...</td>\n",
       "    </tr>\n",
       "    <tr>\n",
       "      <th>...</th>\n",
       "      <td>...</td>\n",
       "      <td>...</td>\n",
       "      <td>...</td>\n",
       "    </tr>\n",
       "    <tr>\n",
       "      <th>54209</th>\n",
       "      <td>\"bonino\"</td>\n",
       "      <td>comedy</td>\n",
       "      <td>this short-lived nbc live sitcom centered on ...</td>\n",
       "    </tr>\n",
       "    <tr>\n",
       "      <th>54210</th>\n",
       "      <td>dead girls don't cry</td>\n",
       "      <td>horror</td>\n",
       "      <td>the next generation of exploitation. the sist...</td>\n",
       "    </tr>\n",
       "    <tr>\n",
       "      <th>54211</th>\n",
       "      <td>ronald goedemondt: ze bestaan echt</td>\n",
       "      <td>documentary</td>\n",
       "      <td>ze bestaan echt, is a stand-up comedy about g...</td>\n",
       "    </tr>\n",
       "    <tr>\n",
       "      <th>54212</th>\n",
       "      <td>make your own bed</td>\n",
       "      <td>comedy</td>\n",
       "      <td>walter and vivian live in the country and hav...</td>\n",
       "    </tr>\n",
       "    <tr>\n",
       "      <th>54213</th>\n",
       "      <td>nature's fury: storm of the century</td>\n",
       "      <td>history</td>\n",
       "      <td>on labor day weekend, 1935, the most intense ...</td>\n",
       "    </tr>\n",
       "  </tbody>\n",
       "</table>\n",
       "<p>54214 rows × 3 columns</p>\n",
       "</div>"
      ],
      "text/plain": [
       "                                       name          genre  \\\n",
       "0                     oscar et la dame rose         drama    \n",
       "1                                     cupid      thriller    \n",
       "2                 young, wild and wonderful         adult    \n",
       "3                            the secret sin         drama    \n",
       "4                           the unrecovered         drama    \n",
       "...                                     ...            ...   \n",
       "54209                              \"bonino\"        comedy    \n",
       "54210                  dead girls don't cry        horror    \n",
       "54211    ronald goedemondt: ze bestaan echt   documentary    \n",
       "54212                     make your own bed        comedy    \n",
       "54213   nature's fury: storm of the century       history    \n",
       "\n",
       "                                             description  \n",
       "0       listening in to a conversation between his do...  \n",
       "1       a brother and sister with a past incestuous r...  \n",
       "2       as the bus empties the students for their fie...  \n",
       "3       to help their unemployed father make ends mee...  \n",
       "4       the film's title refers not only to the un-re...  \n",
       "...                                                  ...  \n",
       "54209   this short-lived nbc live sitcom centered on ...  \n",
       "54210   the next generation of exploitation. the sist...  \n",
       "54211   ze bestaan echt, is a stand-up comedy about g...  \n",
       "54212   walter and vivian live in the country and hav...  \n",
       "54213   on labor day weekend, 1935, the most intense ...  \n",
       "\n",
       "[54214 rows x 3 columns]"
      ]
     },
     "execution_count": 4,
     "metadata": {},
     "output_type": "execute_result"
    }
   ],
   "source": [
    "data_1 = {'name': column2,\n",
    "          'genre': column3,\n",
    "          'description': column4}\n",
    "df = pd.DataFrame(data_1)\n",
    "df['name'] = df['name'].apply(lambda x: x[:-8])\n",
    "df"
   ]
  },
  {
   "cell_type": "code",
   "execution_count": 5,
   "metadata": {
    "execution": {
     "iopub.execute_input": "2023-10-22T15:43:33.311511Z",
     "iopub.status.busy": "2023-10-22T15:43:33.310681Z",
     "iopub.status.idle": "2023-10-22T15:43:33.972982Z",
     "shell.execute_reply": "2023-10-22T15:43:33.971447Z",
     "shell.execute_reply.started": "2023-10-22T15:43:33.311466Z"
    }
   },
   "outputs": [
    {
     "data": {
      "image/png": "[encoded data removed]",
      "text/plain": [
       "<Figure size 432x288 with 1 Axes>"
      ]
     },
     "metadata": {
      "needs_background": "light"
     },
     "output_type": "display_data"
    }
   ],
   "source": [
    "sns.barplot(x=df['genre'].value_counts().index, y=df['genre'].value_counts())\n",
    "plt.xlabel('Genre')\n",
    "plt.ylabel('Count')\n",
    "plt.xticks(rotation=90)\n",
    "plt.show()"
   ]
  },
  {
   "cell_type": "code",
   "execution_count": 6,
   "metadata": {
    "execution": {
     "iopub.execute_input": "2023-10-22T15:43:33.97622Z",
     "iopub.status.busy": "2023-10-22T15:43:33.975645Z",
     "iopub.status.idle": "2023-10-22T15:43:34.283139Z",
     "shell.execute_reply": "2023-10-22T15:43:34.282Z",
     "shell.execute_reply.started": "2023-10-22T15:43:33.976172Z"
    }
   },
   "outputs": [
    {
     "data": {
      "text/html": [
       "<div>\n",
       "<style scoped>\n",
       "    .dataframe tbody tr th:only-of-type {\n",
       "        vertical-align: middle;\n",
       "    }\n",
       "\n",
       "    .dataframe tbody tr th {\n",
       "        vertical-align: top;\n",
       "    }\n",
       "\n",
       "    .dataframe thead th {\n",
       "        text-align: right;\n",
       "    }\n",
       "</style>\n",
       "<table border=\"1\" class=\"dataframe\">\n",
       "  <thead>\n",
       "    <tr style=\"text-align: right;\">\n",
       "      <th></th>\n",
       "      <th>name</th>\n",
       "      <th>description</th>\n",
       "    </tr>\n",
       "  </thead>\n",
       "  <tbody>\n",
       "    <tr>\n",
       "      <th>0</th>\n",
       "      <td>edgar's lunch</td>\n",
       "      <td>l.r. brane loves his life - his car, his apar...</td>\n",
       "    </tr>\n",
       "    <tr>\n",
       "      <th>1</th>\n",
       "      <td>la guerra de papá</td>\n",
       "      <td>spain, march 1964: quico is a very naughty ch...</td>\n",
       "    </tr>\n",
       "    <tr>\n",
       "      <th>2</th>\n",
       "      <td>off the beaten track</td>\n",
       "      <td>one year in the life of albin and his family ...</td>\n",
       "    </tr>\n",
       "    <tr>\n",
       "      <th>3</th>\n",
       "      <td>meu amigo hindu</td>\n",
       "      <td>his father has died, he hasn't spoken with hi...</td>\n",
       "    </tr>\n",
       "    <tr>\n",
       "      <th>4</th>\n",
       "      <td>er nu zhai</td>\n",
       "      <td>before he was known internationally as a mart...</td>\n",
       "    </tr>\n",
       "    <tr>\n",
       "      <th>...</th>\n",
       "      <td>...</td>\n",
       "      <td>...</td>\n",
       "    </tr>\n",
       "    <tr>\n",
       "      <th>54195</th>\n",
       "      <td>\"tales of light &amp; dark\"</td>\n",
       "      <td>covering multiple genres, tales of light &amp; da...</td>\n",
       "    </tr>\n",
       "    <tr>\n",
       "      <th>54196</th>\n",
       "      <td>der letzte mohikaner</td>\n",
       "      <td>as alice and cora munro attempt to find their...</td>\n",
       "    </tr>\n",
       "    <tr>\n",
       "      <th>54197</th>\n",
       "      <td>oliver twink</td>\n",
       "      <td>a movie 169 years in the making. oliver twist...</td>\n",
       "    </tr>\n",
       "    <tr>\n",
       "      <th>54198</th>\n",
       "      <td>slipstream</td>\n",
       "      <td>popular, but mysterious rock d.j mike mallard...</td>\n",
       "    </tr>\n",
       "    <tr>\n",
       "      <th>54199</th>\n",
       "      <td>curitiba zero grau</td>\n",
       "      <td>curitiba is a city in movement, with rhythms ...</td>\n",
       "    </tr>\n",
       "  </tbody>\n",
       "</table>\n",
       "<p>54200 rows × 2 columns</p>\n",
       "</div>"
      ],
      "text/plain": [
       "                           name  \\\n",
       "0                 edgar's lunch   \n",
       "1             la guerra de papá   \n",
       "2          off the beaten track   \n",
       "3               meu amigo hindu   \n",
       "4                    er nu zhai   \n",
       "...                         ...   \n",
       "54195   \"tales of light & dark\"   \n",
       "54196      der letzte mohikaner   \n",
       "54197              oliver twink   \n",
       "54198                slipstream   \n",
       "54199        curitiba zero grau   \n",
       "\n",
       "                                             description  \n",
       "0       l.r. brane loves his life - his car, his apar...  \n",
       "1       spain, march 1964: quico is a very naughty ch...  \n",
       "2       one year in the life of albin and his family ...  \n",
       "3       his father has died, he hasn't spoken with hi...  \n",
       "4       before he was known internationally as a mart...  \n",
       "...                                                  ...  \n",
       "54195   covering multiple genres, tales of light & da...  \n",
       "54196   as alice and cora munro attempt to find their...  \n",
       "54197   a movie 169 years in the making. oliver twist...  \n",
       "54198   popular, but mysterious rock d.j mike mallard...  \n",
       "54199   curitiba is a city in movement, with rhythms ...  \n",
       "\n",
       "[54200 rows x 2 columns]"
      ]
     },
     "execution_count": 6,
     "metadata": {},
     "output_type": "execute_result"
    }
   ],
   "source": [
    "rows = test_text.split(\":::\")\n",
    "\n",
    "# Split the data into lines based on \"\\n\"\n",
    "lines = test_text.split(\"\\n\")\n",
    "\n",
    "# Initialize empty lists for the four columns\n",
    "column1 = []\n",
    "column2 = []\n",
    "column3 = []\n",
    "\n",
    "# Split each line into four columns based on the delimiter \":::\"\n",
    "for line in lines:\n",
    "    columns = line.split(\":::\")\n",
    "    if len(columns) == 3:\n",
    "        column1.append(columns[0])\n",
    "        column2.append(columns[1])\n",
    "        column3.append(columns[2])\n",
    "        \n",
    "data_2 = {'name': column2,\n",
    "          'description': column3}\n",
    "df1 = pd.DataFrame(data_2)\n",
    "df1['name'] = df1['name'].apply(lambda x: x[:-8])\n",
    "df1"
   ]
  },
  {
   "cell_type": "code",
   "execution_count": 7,
   "metadata": {
    "execution": {
     "iopub.execute_input": "2023-10-22T15:43:34.286013Z",
     "iopub.status.busy": "2023-10-22T15:43:34.285498Z",
     "iopub.status.idle": "2023-10-22T15:43:35.445525Z",
     "shell.execute_reply": "2023-10-22T15:43:35.444287Z",
     "shell.execute_reply.started": "2023-10-22T15:43:34.285966Z"
    }
   },
   "outputs": [],
   "source": [
    "non_numeric_cols_df = df.select_dtypes(exclude=[int, float]).columns\n",
    "\n",
    "label_encoders_df = {}\n",
    "for col in non_numeric_cols_df:\n",
    "    label_encoders_df[col] = LabelEncoder()\n",
    "    df[col] = label_encoders_df[col].fit_transform(df[col])\n",
    "    \n",
    "non_numeric_cols_df1 = df1.select_dtypes(exclude=[int, float]).columns\n",
    "\n",
    "label_encoders_df1 = {}\n",
    "for col in non_numeric_cols_df1:\n",
    "    label_encoders_df1[col] = LabelEncoder()\n",
    "    df1[col] = label_encoders_df1[col].fit_transform(df1[col])"
   ]
  },
  {
   "cell_type": "code",
   "execution_count": 8,
   "metadata": {
    "execution": {
     "iopub.execute_input": "2023-10-22T15:43:35.447682Z",
     "iopub.status.busy": "2023-10-22T15:43:35.447205Z",
     "iopub.status.idle": "2023-10-22T15:43:35.476057Z",
     "shell.execute_reply": "2023-10-22T15:43:35.474426Z",
     "shell.execute_reply.started": "2023-10-22T15:43:35.44764Z"
    }
   },
   "outputs": [
    {
     "data": {
      "text/plain": [
       "((54214, 2), (54214,), (54200, 2))"
      ]
     },
     "execution_count": 8,
     "metadata": {},
     "output_type": "execute_result"
    }
   ],
   "source": [
    "X_train = df.drop(['genre'], axis=1)\n",
    "Y_train = df['genre']\n",
    "X_test = df1\n",
    "X_train.shape, Y_train.shape, X_test.shape"
   ]
  },
  {
   "cell_type": "code",
   "execution_count": 9,
   "metadata": {
    "execution": {
     "iopub.execute_input": "2023-10-22T15:43:35.478275Z",
     "iopub.status.busy": "2023-10-22T15:43:35.477768Z",
     "iopub.status.idle": "2023-10-22T15:44:06.872737Z",
     "shell.execute_reply": "2023-10-22T15:44:06.871449Z",
     "shell.execute_reply.started": "2023-10-22T15:43:35.478233Z"
    }
   },
   "outputs": [
    {
     "name": "stdout",
     "output_type": "stream",
     "text": [
      "Random Forest:  99.99\n"
     ]
    }
   ],
   "source": [
    "# Random Forest\n",
    "random_forest = RandomForestClassifier(n_estimators=100)\n",
    "random_forest.fit(X_train, Y_train)\n",
    "Y_pred = random_forest.predict(X_test)\n",
    "random_forest.score(X_train, Y_train)\n",
    "acc_random_forest = round(random_forest.score(X_train, Y_train) * 100, 2)\n",
    "print(\"Random Forest: \", acc_random_forest)"
   ]
  },
  {
   "cell_type": "code",
   "execution_count": 10,
   "metadata": {
    "execution": {
     "iopub.execute_input": "2023-10-22T15:44:06.874971Z",
     "iopub.status.busy": "2023-10-22T15:44:06.87442Z",
     "iopub.status.idle": "2023-10-22T15:44:06.934575Z",
     "shell.execute_reply": "2023-10-22T15:44:06.933184Z",
     "shell.execute_reply.started": "2023-10-22T15:44:06.874924Z"
    }
   },
   "outputs": [],
   "source": [
    "for col in df1:\n",
    "    df1[col] = label_encoders_df1[col].inverse_transform(df1[col])\n",
    "\n",
    "for col in df:\n",
    "    df[col] = label_encoders_df[col].inverse_transform(df[col])"
   ]
  },
  {
   "cell_type": "code",
   "execution_count": 11,
   "metadata": {
    "execution": {
     "iopub.execute_input": "2023-10-22T15:44:06.93755Z",
     "iopub.status.busy": "2023-10-22T15:44:06.936423Z",
     "iopub.status.idle": "2023-10-22T15:44:06.948696Z",
     "shell.execute_reply": "2023-10-22T15:44:06.947054Z",
     "shell.execute_reply.started": "2023-10-22T15:44:06.937504Z"
    }
   },
   "outputs": [],
   "source": [
    "Y_pred = label_encoders_df['genre'].inverse_transform(Y_pred)"
   ]
  },
  {
   "cell_type": "code",
   "execution_count": 12,
   "metadata": {
    "execution": {
     "iopub.execute_input": "2023-10-22T15:44:06.953216Z",
     "iopub.status.busy": "2023-10-22T15:44:06.952833Z",
     "iopub.status.idle": "2023-10-22T15:44:06.977552Z",
     "shell.execute_reply": "2023-10-22T15:44:06.976322Z",
     "shell.execute_reply.started": "2023-10-22T15:44:06.953187Z"
    }
   },
   "outputs": [
    {
     "data": {
      "text/html": [
       "<div>\n",
       "<style scoped>\n",
       "    .dataframe tbody tr th:only-of-type {\n",
       "        vertical-align: middle;\n",
       "    }\n",
       "\n",
       "    .dataframe tbody tr th {\n",
       "        vertical-align: top;\n",
       "    }\n",
       "\n",
       "    .dataframe thead th {\n",
       "        text-align: right;\n",
       "    }\n",
       "</style>\n",
       "<table border=\"1\" class=\"dataframe\">\n",
       "  <thead>\n",
       "    <tr style=\"text-align: right;\">\n",
       "      <th></th>\n",
       "      <th>name</th>\n",
       "      <th>description</th>\n",
       "      <th>genre</th>\n",
       "    </tr>\n",
       "  </thead>\n",
       "  <tbody>\n",
       "    <tr>\n",
       "      <th>0</th>\n",
       "      <td>edgar's lunch</td>\n",
       "      <td>l.r. brane loves his life - his car, his apar...</td>\n",
       "      <td>comedy</td>\n",
       "    </tr>\n",
       "    <tr>\n",
       "      <th>1</th>\n",
       "      <td>la guerra de papá</td>\n",
       "      <td>spain, march 1964: quico is a very naughty ch...</td>\n",
       "      <td>thriller</td>\n",
       "    </tr>\n",
       "    <tr>\n",
       "      <th>2</th>\n",
       "      <td>off the beaten track</td>\n",
       "      <td>one year in the life of albin and his family ...</td>\n",
       "      <td>comedy</td>\n",
       "    </tr>\n",
       "    <tr>\n",
       "      <th>3</th>\n",
       "      <td>meu amigo hindu</td>\n",
       "      <td>his father has died, he hasn't spoken with hi...</td>\n",
       "      <td>documentary</td>\n",
       "    </tr>\n",
       "    <tr>\n",
       "      <th>4</th>\n",
       "      <td>er nu zhai</td>\n",
       "      <td>before he was known internationally as a mart...</td>\n",
       "      <td>drama</td>\n",
       "    </tr>\n",
       "    <tr>\n",
       "      <th>...</th>\n",
       "      <td>...</td>\n",
       "      <td>...</td>\n",
       "      <td>...</td>\n",
       "    </tr>\n",
       "    <tr>\n",
       "      <th>54195</th>\n",
       "      <td>\"tales of light &amp; dark\"</td>\n",
       "      <td>covering multiple genres, tales of light &amp; da...</td>\n",
       "      <td>comedy</td>\n",
       "    </tr>\n",
       "    <tr>\n",
       "      <th>54196</th>\n",
       "      <td>der letzte mohikaner</td>\n",
       "      <td>as alice and cora munro attempt to find their...</td>\n",
       "      <td>drama</td>\n",
       "    </tr>\n",
       "    <tr>\n",
       "      <th>54197</th>\n",
       "      <td>oliver twink</td>\n",
       "      <td>a movie 169 years in the making. oliver twist...</td>\n",
       "      <td>drama</td>\n",
       "    </tr>\n",
       "    <tr>\n",
       "      <th>54198</th>\n",
       "      <td>slipstream</td>\n",
       "      <td>popular, but mysterious rock d.j mike mallard...</td>\n",
       "      <td>drama</td>\n",
       "    </tr>\n",
       "    <tr>\n",
       "      <th>54199</th>\n",
       "      <td>curitiba zero grau</td>\n",
       "      <td>curitiba is a city in movement, with rhythms ...</td>\n",
       "      <td>comedy</td>\n",
       "    </tr>\n",
       "  </tbody>\n",
       "</table>\n",
       "<p>54200 rows × 3 columns</p>\n",
       "</div>"
      ],
      "text/plain": [
       "                           name  \\\n",
       "0                 edgar's lunch   \n",
       "1             la guerra de papá   \n",
       "2          off the beaten track   \n",
       "3               meu amigo hindu   \n",
       "4                    er nu zhai   \n",
       "...                         ...   \n",
       "54195   \"tales of light & dark\"   \n",
       "54196      der letzte mohikaner   \n",
       "54197              oliver twink   \n",
       "54198                slipstream   \n",
       "54199        curitiba zero grau   \n",
       "\n",
       "                                             description          genre  \n",
       "0       l.r. brane loves his life - his car, his apar...        comedy   \n",
       "1       spain, march 1964: quico is a very naughty ch...      thriller   \n",
       "2       one year in the life of albin and his family ...        comedy   \n",
       "3       his father has died, he hasn't spoken with hi...   documentary   \n",
       "4       before he was known internationally as a mart...         drama   \n",
       "...                                                  ...            ...  \n",
       "54195   covering multiple genres, tales of light & da...        comedy   \n",
       "54196   as alice and cora munro attempt to find their...         drama   \n",
       "54197   a movie 169 years in the making. oliver twist...         drama   \n",
       "54198   popular, but mysterious rock d.j mike mallard...         drama   \n",
       "54199   curitiba is a city in movement, with rhythms ...        comedy   \n",
       "\n",
       "[54200 rows x 3 columns]"
      ]
     },
     "execution_count": 12,
     "metadata": {},
     "output_type": "execute_result"
    }
   ],
   "source": [
    "data_1 = {'name': df1['name'],\n",
    "          'description': df1['description'],\n",
    "        'genre': Y_pred}\n",
    "df_pred_1 = pd.DataFrame(data_1)\n",
    "# df_pred_1.to_csv(\"Genres_Dm_Lebe.csv\", encoding='utf-8', index=False)\n",
    "df_pred_1"
   ]
  },
  {
   "cell_type": "code",
   "execution_count": null,
   "metadata": {},
   "outputs": [],
   "source": []
  }
 ],
 "metadata": {
  "kaggle": {
   "accelerator": "none",
   "dataSources": [
    {
     "datasetId": 1417162,
     "sourceId": 2347441,
     "sourceType": "datasetVersion"
    }
   ],
   "dockerImageVersionId": 30558,
   "isGpuEnabled": false,
   "isInternetEnabled": false,
   "language": "python",
   "sourceType": "notebook"
  },
  "kernelspec": {
   "display_name": "Python 3 (ipykernel)",
   "language": "python",
   "name": "python3"
  },
  "language_info": {
   "codemirror_mode": {
    "name": "ipython",
    "version": 3
   },
   "file_extension": ".py",
   "mimetype": "text/x-python",
   "name": "python",
   "nbconvert_exporter": "python",
   "pygments_lexer": "ipython3",
   "version": "3.9.12"
  }
 },
 "nbformat": 4,
 "nbformat_minor": 4
}
